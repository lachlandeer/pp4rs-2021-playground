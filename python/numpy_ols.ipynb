{
    "cells": [
        {
            "cell_type": "code",
            "execution_count": 1,
            "source": [
                "import numpy as np\n"
            ],
            "outputs": [],
            "metadata": {}
        },
        {
            "cell_type": "code",
            "execution_count": 29,
            "source": [
                "np.random.seed(1234567890)\n"
            ],
            "outputs": [],
            "metadata": {}
        },
        {
            "cell_type": "code",
            "execution_count": 30,
            "source": [
                "data_properties = { 'n_obs': 10000,\n",
                "                    'beta': np.array([0.25, 0.75, -2.25]),\n",
                "                    'sigma': 5\n",
                "                    }"
            ],
            "outputs": [],
            "metadata": {}
        },
        {
            "cell_type": "code",
            "execution_count": 31,
            "source": [
                "def gen_data(data_properties):\n",
                "    \"\"\"\n",
                "        WRITE DOCS\n",
                "    \"\"\"\n",
                "    import numpy\n",
                "    \n",
                "    n_obs = data_properties['n_obs']\n",
                "    beta  = data_properties['beta']\n",
                "    n_x = data_properties['beta'].shape[0] - 1\n",
                "    \n",
                "    # make explanatory variables\n",
                "    iota     = numpy.ones(n_obs).reshape(n_obs, 1)\n",
                "    expl_var = numpy.random.uniform(size=[n_obs, n_x])\n",
                "    \n",
                "    X = numpy.column_stack(tup = (iota, expl_var))\n",
                "\n",
                "    epsilon = numpy.random.normal(loc = 0, scale = data_properties['sigma'], size = n_obs)\n",
                "\n",
                "    y = X @ beta + epsilon\n",
                "\n",
                "    data = np.column_stack([y, X[:,1:]])\n",
                "\n",
                "    return data #[y, X]\n"
            ],
            "outputs": [],
            "metadata": {}
        },
        {
            "cell_type": "code",
            "execution_count": 32,
            "source": [
                "my_data = gen_data(data_properties)"
            ],
            "outputs": [],
            "metadata": {}
        },
        {
            "cell_type": "code",
            "execution_count": 38,
            "source": [
                "my_data[:,0]"
            ],
            "outputs": [
                {
                    "output_type": "execute_result",
                    "data": {
                        "text/plain": [
                            "array([  0.71854923, -13.34252351,  -3.7721326 , ...,  11.59416204,\n",
                            "         2.83101472,  -1.30604114])"
                        ]
                    },
                    "metadata": {},
                    "execution_count": 38
                }
            ],
            "metadata": {}
        },
        {
            "cell_type": "code",
            "execution_count": 56,
            "source": [
                "def ols_coeffficients(y, X, constant = True):\n",
                "\n",
                "    assert type(y) == np.ndarray\n",
                "    assert type(X) == np.ndarray\n",
                "    assert type(constant) == bool\n",
                "\n",
                "    assert y.shape[0] == X.shape[0]\n",
                "\n",
                "    n_obs = y.shape[0]\n",
                "    if constant == True:\n",
                "        # add a constant to matrix\n",
                "\n",
                "        iota     = np.ones(n_obs).reshape(n_obs, 1)\n",
                "        X = np.column_stack([iota, X])\n",
                "    \n",
                "    # compute beta_hat\n",
                "    XX = X.T.dot(X)\n",
                "    Xy = X.T.dot(y)\n",
                "    XX_inv = np.linalg.inv(XX)\n",
                "\n",
                "    beta_hat = XX_inv.dot(Xy)\n",
                "\n",
                "    n_coeff = beta_hat.size\n",
                "    assert n_coeff == X.shape[1]\n",
                "    \n",
                "    return beta_hat"
            ],
            "outputs": [],
            "metadata": {}
        },
        {
            "cell_type": "code",
            "execution_count": 61,
            "source": [
                "my_beta = ols_coeffficients(y = my_data[:,0],\n",
                "                            X = my_data[:,1:], \n",
                "                            constant= True)"
            ],
            "outputs": [],
            "metadata": {}
        },
        {
            "cell_type": "code",
            "execution_count": 60,
            "source": [],
            "outputs": [
                {
                    "output_type": "execute_result",
                    "data": {
                        "text/plain": [
                            "array([ 1.02621937, -2.06831318])"
                        ]
                    },
                    "metadata": {},
                    "execution_count": 60
                }
            ],
            "metadata": {}
        },
        {
            "cell_type": "markdown",
            "source": [
                "## Now Standard Errors"
            ],
            "metadata": {}
        },
        {
            "cell_type": "code",
            "execution_count": 63,
            "source": [
                "def get_residuals(dep_var, expl_var, constant = True):\n",
                "    \"\"\"\n",
                "        YOU SHOULD WRITE DOCs\n",
                "    \"\"\"\n",
                "    \n",
                "    assert type(dep_var) == np.ndarray\n",
                "    assert type(expl_var) == np.ndarray\n",
                "    \n",
                "    X = expl_var\n",
                "    y = dep_var \n",
                "    \n",
                "    X_rows, X_cols = X.shape\n",
                "    y_rows = y.size\n",
                "    \n",
                "    assert X_rows == y_rows\n",
                "    n_obs = y_rows\n",
                "\n",
                "    if constant == True:\n",
                "        # add a constant to matrix\n",
                "        iota     = np.ones(n_obs).reshape(n_obs, 1)\n",
                "        X = np.column_stack([iota, X])\n",
                "    \n",
                "    ## get projection matrix\n",
                "    XX_inv = np.linalg.inv(X.T.dot(X))\n",
                "    P = X.dot(XX_inv).dot(X.T)\n",
                "    \n",
                "    ##\n",
                "    P_rows, P_cols = P.shape\n",
                "    assert P_rows == P_cols\n",
                "    assert X_rows == P_rows\n",
                "    \n",
                "    M = np.eye(P_rows) - P\n",
                "    \n",
                "    residuals = M.dot(y)\n",
                "    \n",
                "    return residuals"
            ],
            "outputs": [],
            "metadata": {}
        },
        {
            "cell_type": "code",
            "execution_count": 66,
            "source": [
                "resid = get_residuals(my_data[:,0], my_data[:,1:])\n",
                "\n"
            ],
            "outputs": [],
            "metadata": {}
        },
        {
            "cell_type": "code",
            "execution_count": 67,
            "source": [
                "resid.shape"
            ],
            "outputs": [
                {
                    "output_type": "execute_result",
                    "data": {
                        "text/plain": [
                            "(10000,)"
                        ]
                    },
                    "metadata": {},
                    "execution_count": 67
                }
            ],
            "metadata": {}
        },
        {
            "cell_type": "code",
            "execution_count": 79,
            "source": [
                "\n",
                "def compute_sigma2(dep_var, expl_var, constant = True):\n",
                "    \"\"\"\n",
                "        WRITE DOCS\n",
                "    \"\"\"\n",
                "    \n",
                "    # type checking\n",
                "    assert type(dep_var) == np.ndarray\n",
                "    assert type(expl_var) == np.ndarray\n",
                "    \n",
                "    X = expl_var\n",
                "    y = dep_var \n",
                "    \n",
                "    X_rows, X_cols = X.shape\n",
                "    y_rows = y.size\n",
                "    \n",
                "    assert X_rows == y_rows\n",
                "    \n",
                "    # now get the residuals\n",
                "    u = get_residuals(y, X, constant = constant)\n",
                "    uu = u.dot(u)\n",
                "    \n",
                "    # now sigma2\n",
                "    df = X_rows - X_cols\n",
                "    sigma2 = uu / df\n",
                "    \n",
                "    assert np.isscalar(sigma2)\n",
                "    \n",
                "    return sigma2"
            ],
            "outputs": [],
            "metadata": {}
        },
        {
            "cell_type": "code",
            "execution_count": 80,
            "source": [
                "compute_sigma2(my_data[:,0], my_data[:,1:])\n"
            ],
            "outputs": [
                {
                    "output_type": "execute_result",
                    "data": {
                        "text/plain": [
                            "25.501448503139596"
                        ]
                    },
                    "metadata": {},
                    "execution_count": 80
                }
            ],
            "metadata": {}
        },
        {
            "cell_type": "code",
            "execution_count": 81,
            "source": [
                "def compute_vcov_homosk(dep_var, expl_var, constant = True):\n",
                "    \"\"\"\n",
                "        WRITE DOCS\n",
                "    \"\"\"\n",
                "    \n",
                "    # type checking\n",
                "    assert type(dep_var) == np.ndarray\n",
                "    assert type(expl_var) == np.ndarray\n",
                "    X = expl_var\n",
                "    y = dep_var \n",
                "    X_rows, X_cols = X.shape\n",
                "    y_rows = y.size\n",
                "    \n",
                "    assert X_rows == y_rows\n",
                "    n_obs = y_rows\n",
                "    if constant == True:\n",
                "        # add a constant to matrix\n",
                "        iota     = np.ones(n_obs).reshape(n_obs, 1)\n",
                "        X = np.column_stack([iota, X])\n",
                "    \n",
                "    # compute vcov matrix\n",
                "    sigma2 = compute_sigma2(y,X, constant = False)\n",
                "    \n",
                "    XX = X.T.dot(X)\n",
                "    XX_inv = np.linalg.inv(XX)\n",
                "    \n",
                "    vcov_mat = sigma2 * XX_inv\n",
                "    \n",
                "    # get std Errors\n",
                "    std_errors = np.sqrt(np.diag(vcov_mat))\n",
                "    \n",
                "    return [std_errors, vcov_mat]"
            ],
            "outputs": [],
            "metadata": {}
        },
        {
            "cell_type": "code",
            "execution_count": 82,
            "source": [
                "my_std, my_vcov = compute_vcov_homosk(my_data[:,0], my_data[:,1:])"
            ],
            "outputs": [],
            "metadata": {}
        },
        {
            "cell_type": "code",
            "execution_count": 83,
            "source": [
                "my_std"
            ],
            "outputs": [
                {
                    "output_type": "execute_result",
                    "data": {
                        "text/plain": [
                            "array([0.13477403, 0.17436836, 0.17514583])"
                        ]
                    },
                    "metadata": {},
                    "execution_count": 83
                }
            ],
            "metadata": {}
        },
        {
            "cell_type": "code",
            "execution_count": null,
            "source": [],
            "outputs": [],
            "metadata": {}
        },
        {
            "cell_type": "markdown",
            "source": [
                "# HC0 standard errors?"
            ],
            "metadata": {}
        },
        {
            "cell_type": "code",
            "execution_count": 90,
            "source": [
                "def add_heterosk(u, X):\n",
                "    u = u + X[:,2]**2\n",
                "    return u"
            ],
            "outputs": [],
            "metadata": {}
        },
        {
            "cell_type": "code",
            "execution_count": 92,
            "source": [
                "data_properties2 = { 'n_obs': 10000,\n",
                "                    'beta': np.array([0.25, 0.75, -2.25]),\n",
                "                    'sigma': 5,\n",
                "                    'hetero': True \n",
                "                    }"
            ],
            "outputs": [],
            "metadata": {}
        },
        {
            "cell_type": "code",
            "execution_count": 96,
            "source": [
                "def gen_data2(data_properties):\n",
                "    \"\"\"\n",
                "        WRITE DOCS\n",
                "    \"\"\"\n",
                "    import numpy\n",
                "    \n",
                "    n_obs = data_properties['n_obs']\n",
                "    beta  = data_properties['beta']\n",
                "    n_x = data_properties['beta'].shape[0] - 1\n",
                "    \n",
                "    # make explanatory variables\n",
                "    iota     = numpy.ones(n_obs).reshape(n_obs, 1)\n",
                "    expl_var = numpy.random.uniform(size=[n_obs, n_x])\n",
                "    \n",
                "    X = numpy.column_stack(tup = (iota, expl_var))\n",
                "\n",
                "    # classical standard errors\n",
                "    epsilon = numpy.random.normal(loc = 0, scale = data_properties['sigma'], size = n_obs)\n",
                "\n",
                "    # add a parametrized heterosk\n",
                "    if data_properties['hetero'] == True:\n",
                "        print('Adding heterosk to error')\n",
                "        epsilon = add_heterosk(epsilon, X)\n",
                "    else:\n",
                "        print('no hetero!')\n",
                "\n",
                "    y = X @ beta + epsilon\n",
                "\n",
                "    data = np.column_stack([y, X[:,1:]])\n",
                "\n",
                "    return data #[y, X]"
            ],
            "outputs": [],
            "metadata": {}
        },
        {
            "cell_type": "code",
            "execution_count": 97,
            "source": [
                "my_data2 = gen_data2(data_properties2)"
            ],
            "outputs": [
                {
                    "output_type": "stream",
                    "name": "stdout",
                    "text": [
                        "Adding heterosk to error\n"
                    ]
                }
            ],
            "metadata": {}
        },
        {
            "cell_type": "code",
            "execution_count": 98,
            "source": [
                "my_beta = ols_coeffficients(y = my_data2[:,0],\n",
                "                            X = my_data2[:,1:], \n",
                "                            constant= True)"
            ],
            "outputs": [],
            "metadata": {}
        },
        {
            "cell_type": "code",
            "execution_count": 99,
            "source": [
                "my_beta"
            ],
            "outputs": [
                {
                    "output_type": "execute_result",
                    "data": {
                        "text/plain": [
                            "array([ 0.16588686,  0.76147351, -1.34621923])"
                        ]
                    },
                    "metadata": {},
                    "execution_count": 99
                }
            ],
            "metadata": {}
        },
        {
            "cell_type": "code",
            "execution_count": 100,
            "source": [
                "# with normal standard errors?\n",
                "my_std, my_vcov = compute_vcov_homosk(my_data2[:,0], my_data2[:,1:])"
            ],
            "outputs": [],
            "metadata": {}
        },
        {
            "cell_type": "code",
            "execution_count": 101,
            "source": [
                "my_std"
            ],
            "outputs": [
                {
                    "output_type": "execute_result",
                    "data": {
                        "text/plain": [
                            "array([0.13378086, 0.17446806, 0.17162186])"
                        ]
                    },
                    "metadata": {},
                    "execution_count": 101
                }
            ],
            "metadata": {}
        },
        {
            "cell_type": "code",
            "execution_count": 118,
            "source": [
                "def compute_vcov_hetero(dep_var, expl_var, constant = True, type = 'HC0'):\n",
                "    \"\"\"\n",
                "        WRITE DOCS\n",
                "    \"\"\"\n",
                "    \n",
                "    # type checking\n",
                "    #assert type(dep_var) == np.ndarray\n",
                "    #assert type(expl_var) == np.ndarray\n",
                "    X = expl_var\n",
                "    y = dep_var \n",
                "    X_rows, X_cols = X.shape\n",
                "    y_rows = y.size\n",
                "    \n",
                "    assert X_rows == y_rows\n",
                "    n_obs = y_rows\n",
                "\n",
                "    print(y.shape)\n",
                "    print(X.shape)\n",
                "    if constant == True:\n",
                "        # add a constant to matrix\n",
                "        iota     = np.ones(n_obs).reshape(n_obs, 1)\n",
                "        X = np.column_stack([iota, X])\n",
                "    \n",
                "    print(X.shape)\n",
                "\n",
                "\n",
                "    if type == 'HC0':\n",
                "        # compute vcov matrix\n",
                "        u = get_residuals(y, X, constant =False)\n",
                "        Sigma_hat = np.diag(u**2)\n",
                "        XX = X.T.dot(X)\n",
                "        XX_inv = np.linalg.inv(XX)\n",
                "\n",
                "        meat = (X.T.dot(Sigma_hat)).dot(X)\n",
                "        \n",
                "        vcov_mat = (XX_inv.dot(meat)).dot(XX_inv)\n",
                "    else:\n",
                "        print('method', type, 'not supported')\n",
                "    \n",
                "    # get std Errors\n",
                "    std_errors = np.sqrt(np.diag(vcov_mat))\n",
                "    \n",
                "    return [std_errors, vcov_mat]"
            ],
            "outputs": [],
            "metadata": {}
        },
        {
            "cell_type": "code",
            "execution_count": 119,
            "source": [
                "my_std, my_vcov = compute_vcov_hetero(my_data2[:,0], my_data2[:,1:])"
            ],
            "outputs": [
                {
                    "output_type": "stream",
                    "name": "stdout",
                    "text": [
                        "(10000,)\n",
                        "(10000, 2)\n",
                        "(10000, 3)\n"
                    ]
                }
            ],
            "metadata": {}
        },
        {
            "cell_type": "code",
            "execution_count": 120,
            "source": [
                "my_std"
            ],
            "outputs": [
                {
                    "output_type": "execute_result",
                    "data": {
                        "text/plain": [
                            "array([0.13585259, 0.17509943, 0.17362959])"
                        ]
                    },
                    "metadata": {},
                    "execution_count": 120
                }
            ],
            "metadata": {}
        },
        {
            "cell_type": "code",
            "execution_count": 121,
            "source": [
                "my_std, my_vcov = compute_vcov_homosk(my_data2[:,0], my_data2[:,1:])"
            ],
            "outputs": [],
            "metadata": {}
        },
        {
            "cell_type": "code",
            "execution_count": 122,
            "source": [
                "my_std"
            ],
            "outputs": [
                {
                    "output_type": "execute_result",
                    "data": {
                        "text/plain": [
                            "array([0.13378086, 0.17446806, 0.17162186])"
                        ]
                    },
                    "metadata": {},
                    "execution_count": 122
                }
            ],
            "metadata": {}
        },
        {
            "cell_type": "markdown",
            "source": [
                "# Verify we did this stuff correctly by an pre-canned OLS estimate"
            ],
            "metadata": {}
        },
        {
            "cell_type": "code",
            "execution_count": 84,
            "source": [
                "import statsmodels.api as sm"
            ],
            "outputs": [],
            "metadata": {}
        },
        {
            "cell_type": "code",
            "execution_count": 123,
            "source": [
                "Y = my_data2[:,0]\n",
                "X = my_data2[:,1:]\n",
                "X = sm.add_constant(X)"
            ],
            "outputs": [],
            "metadata": {}
        },
        {
            "cell_type": "code",
            "execution_count": 124,
            "source": [
                "model = sm.OLS(Y,X)"
            ],
            "outputs": [],
            "metadata": {}
        },
        {
            "cell_type": "code",
            "execution_count": 128,
            "source": [
                "results = model.fit(cov_type='HC0')"
            ],
            "outputs": [],
            "metadata": {}
        },
        {
            "cell_type": "code",
            "execution_count": 129,
            "source": [
                "results.params"
            ],
            "outputs": [
                {
                    "output_type": "execute_result",
                    "data": {
                        "text/plain": [
                            "array([ 0.16588686,  0.76147351, -1.34621923])"
                        ]
                    },
                    "metadata": {},
                    "execution_count": 129
                }
            ],
            "metadata": {}
        },
        {
            "cell_type": "code",
            "execution_count": 130,
            "source": [
                "print(results.summary())\n"
            ],
            "outputs": [
                {
                    "output_type": "stream",
                    "name": "stdout",
                    "text": [
                        "                            OLS Regression Results                            \n",
                        "==============================================================================\n",
                        "Dep. Variable:                      y   R-squared:                       0.008\n",
                        "Model:                            OLS   Adj. R-squared:                  0.008\n",
                        "Method:                 Least Squares   F-statistic:                     40.06\n",
                        "Date:                Sun, 05 Sep 2021   Prob (F-statistic):           4.68e-18\n",
                        "Time:                        18:13:50   Log-Likelihood:                -30276.\n",
                        "No. Observations:               10000   AIC:                         6.056e+04\n",
                        "Df Residuals:                    9997   BIC:                         6.058e+04\n",
                        "Df Model:                           2                                         \n",
                        "Covariance Type:                  HC0                                         \n",
                        "==============================================================================\n",
                        "                 coef    std err          z      P>|z|      [0.025      0.975]\n",
                        "------------------------------------------------------------------------------\n",
                        "const          0.1659      0.136      1.221      0.222      -0.100       0.432\n",
                        "x1             0.7615      0.175      4.349      0.000       0.418       1.105\n",
                        "x2            -1.3462      0.174     -7.753      0.000      -1.687      -1.006\n",
                        "==============================================================================\n",
                        "Omnibus:                        5.016   Durbin-Watson:                   2.009\n",
                        "Prob(Omnibus):                  0.081   Jarque-Bera (JB):                5.401\n",
                        "Skew:                           0.003   Prob(JB):                       0.0672\n",
                        "Kurtosis:                       3.114   Cond. No.                         5.36\n",
                        "==============================================================================\n",
                        "\n",
                        "Notes:\n",
                        "[1] Standard Errors are heteroscedasticity robust (HC0)\n"
                    ]
                }
            ],
            "metadata": {}
        },
        {
            "cell_type": "code",
            "execution_count": 104,
            "source": [
                "resid**2"
            ],
            "outputs": [
                {
                    "output_type": "execute_result",
                    "data": {
                        "text/plain": [
                            "array([  1.73781367, 150.32162514,   6.83606561, ..., 145.70651338,\n",
                            "         7.8136511 ,   2.87210633])"
                        ]
                    },
                    "metadata": {},
                    "execution_count": 104
                }
            ],
            "metadata": {}
        },
        {
            "cell_type": "code",
            "execution_count": 105,
            "source": [
                "np.diag(resid**2)"
            ],
            "outputs": [
                {
                    "output_type": "execute_result",
                    "data": {
                        "text/plain": [
                            "array([[  1.73781367,   0.        ,   0.        , ...,   0.        ,\n",
                            "          0.        ,   0.        ],\n",
                            "       [  0.        , 150.32162514,   0.        , ...,   0.        ,\n",
                            "          0.        ,   0.        ],\n",
                            "       [  0.        ,   0.        ,   6.83606561, ...,   0.        ,\n",
                            "          0.        ,   0.        ],\n",
                            "       ...,\n",
                            "       [  0.        ,   0.        ,   0.        , ..., 145.70651338,\n",
                            "          0.        ,   0.        ],\n",
                            "       [  0.        ,   0.        ,   0.        , ...,   0.        ,\n",
                            "          7.8136511 ,   0.        ],\n",
                            "       [  0.        ,   0.        ,   0.        , ...,   0.        ,\n",
                            "          0.        ,   2.87210633]])"
                        ]
                    },
                    "metadata": {},
                    "execution_count": 105
                }
            ],
            "metadata": {}
        },
        {
            "cell_type": "code",
            "execution_count": null,
            "source": [],
            "outputs": [],
            "metadata": {}
        }
    ],
    "metadata": {
        "orig_nbformat": 4,
        "language_info": {
            "name": "python",
            "version": "3.7.6",
            "mimetype": "text/x-python",
            "codemirror_mode": {
                "name": "ipython",
                "version": 3
            },
            "pygments_lexer": "ipython3",
            "nbconvert_exporter": "python",
            "file_extension": ".py"
        },
        "kernelspec": {
            "name": "python3",
            "display_name": "Python 3.7.6 64-bit ('base': conda)"
        },
        "interpreter": {
            "hash": "bf5f67538785b35c4702aeb67651fc986043af768008a1d9e9d94d6c2205c8f1"
        }
    },
    "nbformat": 4,
    "nbformat_minor": 2
}