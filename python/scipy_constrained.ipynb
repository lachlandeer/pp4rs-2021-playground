{
    "cells": [
        {
            "cell_type": "code",
            "execution_count": 1,
            "source": [
                "\n",
                "import numpy as np\n",
                "from scipy.optimize import minimize\n"
            ],
            "outputs": [],
            "metadata": {}
        },
        {
            "cell_type": "code",
            "execution_count": 2,
            "source": [
                "\n",
                "utility_params = { 'alpha': 0.3,\n",
                "                    'beta': 0.7\n",
                "                    }"
            ],
            "outputs": [],
            "metadata": {}
        },
        {
            "cell_type": "code",
            "execution_count": 3,
            "source": [
                "budget_params = { 'price1': 1,\n",
                "                  'price2': 5,\n",
                "                  'income': 30\n",
                "                    }"
            ],
            "outputs": [],
            "metadata": {}
        },
        {
            "cell_type": "code",
            "execution_count": 4,
            "source": [
                "def budget_constraint(quantity, utility_dict, budget_dict):\n",
                "    price_1 = budget_dict['price1']\n",
                "    price_2 = budget_dict['price2']\n",
                "    income  = budget_dict['income']\n",
                "    qty1  = quantity[0]\n",
                "    qty2  = quantity[1]\n",
                "    \n",
                "    return price_1 * qty1 + price_2 * qty2 - income"
            ],
            "outputs": [],
            "metadata": {}
        },
        {
            "cell_type": "code",
            "execution_count": 5,
            "source": [
                "\n",
                "def criterion(quantity, utility_dict, budget_dict):\n",
                "    \"\"\"\n",
                "        WRITE DOCS\n",
                "    \"\"\"\n",
                "\n",
                "    alpha   = utility_dict['alpha']\n",
                "    beta    = utility_dict['beta']\n",
                "\n",
                "    qty1  = quantity[0]\n",
                "    qty2  = quantity[1]\n",
                "\n",
                "    utility = qty1**alpha * qty2 ** beta\n",
                "    return -utility"
            ],
            "outputs": [],
            "metadata": {}
        },
        {
            "cell_type": "code",
            "execution_count": 6,
            "source": [
                "criterion(np.array([1,2]), utility_params, budget_params)\n"
            ],
            "outputs": [
                {
                    "output_type": "execute_result",
                    "data": {
                        "text/plain": [
                            "-1.624504792712471"
                        ]
                    },
                    "metadata": {},
                    "execution_count": 6
                }
            ],
            "metadata": {}
        },
        {
            "cell_type": "code",
            "execution_count": 7,
            "source": [
                "params = (utility_params, budget_params)\n",
                "starting_vals = np.array([1.0,1.0])\n",
                "bnds = ((0, None), (0, None))"
            ],
            "outputs": [],
            "metadata": {}
        },
        {
            "cell_type": "code",
            "execution_count": 8,
            "source": [
                "# cons = ({'type': 'eq', 'fun': lambda x: 1*x[0] + 2*x[1] - 30})\n",
                "cons = ({'type': 'eq', 'fun': budget_constraint,\n",
                "        'args': (utility_params, budget_params)\n",
                "            })"
            ],
            "outputs": [],
            "metadata": {}
        },
        {
            "cell_type": "code",
            "execution_count": 9,
            "source": [
                "res = minimize(criterion, \n",
                "                starting_vals, \n",
                "                args = params, \n",
                "                method='SLSQP', \n",
                "                tol = 1e-16,\n",
                "                constraints=cons,\n",
                "                bounds = bnds)"
            ],
            "outputs": [],
            "metadata": {}
        },
        {
            "cell_type": "code",
            "execution_count": 10,
            "source": [
                "print(res)"
            ],
            "outputs": [
                {
                    "output_type": "stream",
                    "name": "stdout",
                    "text": [
                        "     fun: -5.278946445143492\n",
                        "     jac: array([-0.17596483, -0.87982434])\n",
                        " message: 'Optimization terminated successfully.'\n",
                        "    nfev: 70\n",
                        "     nit: 13\n",
                        "    njev: 13\n",
                        "  status: 0\n",
                        " success: True\n",
                        "       x: array([8.99999991, 4.20000002])\n"
                    ]
                }
            ],
            "metadata": {}
        },
        {
            "cell_type": "code",
            "execution_count": 11,
            "source": [
                "res.x[1]"
            ],
            "outputs": [
                {
                    "output_type": "execute_result",
                    "data": {
                        "text/plain": [
                            "4.200000018306215"
                        ]
                    },
                    "metadata": {},
                    "execution_count": 11
                }
            ],
            "metadata": {}
        },
        {
            "cell_type": "code",
            "execution_count": 12,
            "source": [
                "p_range = np.linspace(1,10,100, endpoint=True)\n"
            ],
            "outputs": [],
            "metadata": {}
        },
        {
            "cell_type": "code",
            "execution_count": 13,
            "source": [
                "my_sol = np.empty(shape = (p_range.size, 2))\n",
                "\n",
                "for idx, iPrice in enumerate(p_range):\n",
                "    #print(idx)\n",
                "    #print('price is: ', iPrice)\n",
                "    budget_params['price1'] = iPrice\n",
                "    #print(budget_params['price1'])\n",
                "    res = minimize(criterion, starting_vals, args = params, method='SLSQP', tol = 1e-16,\n",
                "               constraints=cons)\n",
                "    my_sol[idx, 0] = res.x[0]\n",
                "    my_sol[idx, 1] = res.x[1]\n"
            ],
            "outputs": [],
            "metadata": {}
        },
        {
            "cell_type": "code",
            "execution_count": 14,
            "source": [
                "import matplotlib.pyplot as plt"
            ],
            "outputs": [],
            "metadata": {}
        },
        {
            "cell_type": "code",
            "execution_count": 15,
            "source": [
                "fig, ax = plt.subplots()\n",
                "\n",
                "ax.plot(p_range, my_sol[:,0], label=\"Purchased Good 1\")\n",
                "ax.plot(p_range, my_sol[:,1], label=\"Purchased Good 2\")\n",
                "ax.set_xlabel(\"Price of Good 1\")\n",
                "ax.legend()"
            ],
            "outputs": [
                {
                    "output_type": "execute_result",
                    "data": {
                        "text/plain": [
                            "<matplotlib.legend.Legend at 0x7fc86e288850>"
                        ]
                    },
                    "metadata": {},
                    "execution_count": 15
                },
                {
                    "output_type": "display_data",
                    "data": {
                        "image/png": "[encoded data removed]",
                        "text/plain": [
                            "<Figure size 432x288 with 1 Axes>"
                        ]
                    },
                    "metadata": {
                        "needs_background": "light"
                    }
                }
            ],
            "metadata": {}
        }
    ],
    "metadata": {
        "orig_nbformat": 4,
        "language_info": {
            "name": "python",
            "version": "3.7.6",
            "mimetype": "text/x-python",
            "codemirror_mode": {
                "name": "ipython",
                "version": 3
            },
            "pygments_lexer": "ipython3",
            "nbconvert_exporter": "python",
            "file_extension": ".py"
        },
        "kernelspec": {
            "name": "python3",
            "display_name": "Python 3.7.6 64-bit ('base': conda)"
        },
        "interpreter": {
            "hash": "bf5f67538785b35c4702aeb67651fc986043af768008a1d9e9d94d6c2205c8f1"
        }
    },
    "nbformat": 4,
    "nbformat_minor": 2
}